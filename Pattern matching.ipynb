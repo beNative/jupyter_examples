{
 "cells": [
  {
   "cell_type": "code",
   "execution_count": 9,
   "metadata": {},
   "outputs": [],
   "source": [
    "from rich import inspect, pretty\n",
    "from rich import print\n",
    "\n",
    "pretty.install()"
   ]
  },
  {
   "cell_type": "markdown",
   "metadata": {},
   "source": [
    "# Pattern matching examples"
   ]
  },
  {
   "cell_type": "markdown",
   "metadata": {},
   "source": [
    "## Case with condition"
   ]
  },
  {
   "cell_type": "code",
   "execution_count": 39,
   "metadata": {},
   "outputs": [
    {
     "data": {
      "text/html": [
       "<pre style=\"white-space:pre;overflow-x:auto;line-height:normal;font-family:Menlo,'DejaVu Sans Mono',consolas,'Courier New',monospace\">                |  latitude | longitude\n",
       "Mexico City     |   <span style=\"color: #008080; text-decoration-color: #008080; font-weight: bold\">19.4333</span> |  <span style=\"color: #008080; text-decoration-color: #008080; font-weight: bold\">-99.1333</span>\n",
       "New York-Newark |   <span style=\"color: #008080; text-decoration-color: #008080; font-weight: bold\">40.8086</span> |  <span style=\"color: #008080; text-decoration-color: #008080; font-weight: bold\">-74.0204</span>\n",
       "São Paulo       |  <span style=\"color: #008080; text-decoration-color: #008080; font-weight: bold\">-23.5478</span> |  <span style=\"color: #008080; text-decoration-color: #008080; font-weight: bold\">-46.6358</span>\n",
       "\n",
       "</pre>\n"
      ],
      "text/plain": [
       "                |  latitude | longitude\n",
       "Mexico City     |   \u001b[1;36m19.4333\u001b[0m |  \u001b[1;36m-99.1333\u001b[0m\n",
       "New York-Newark |   \u001b[1;36m40.8086\u001b[0m |  \u001b[1;36m-74.0204\u001b[0m\n",
       "São Paulo       |  \u001b[1;36m-23.5478\u001b[0m |  \u001b[1;36m-46.6358\u001b[0m\n",
       "\n"
      ]
     },
     "metadata": {},
     "output_type": "display_data"
    }
   ],
   "source": [
    "metro_areas = [\n",
    "    ('Tokyo', 'JP', 36.933, (35.689722, 139.691667)),\n",
    "    ('Delhi NCR', 'IN', 21.935, (28.613889, 77.208889)),\n",
    "    ('Mexico City', 'MX', 20.142, (19.433333, -99.133333)),\n",
    "    ('New York-Newark', 'US', 20.104, (40.808611, -74.020386)),\n",
    "    ('São Paulo', 'BR', 19.649, (-23.547778, -46.635833)),\n",
    "]\n",
    "\n",
    "s = (f'{\"\":15} | {\"latitude\":>9} | {\"longitude\":>9}\\n')\n",
    "for record in metro_areas:\n",
    "    match record:\n",
    "        case [name, _, _, (lat, lon)] if lon <= 0:\n",
    "            s += (f'{name:15} | {lat:9.4f} | {lon:9.4f}\\n')\n",
    "print(s)"
   ]
  },
  {
   "cell_type": "markdown",
   "metadata": {},
   "source": [
    "## Binding subject to tuple => Destructuring"
   ]
  },
  {
   "cell_type": "code",
   "execution_count": 31,
   "metadata": {},
   "outputs": [
    {
     "data": {
      "text/html": [
       "<pre style=\"white-space:pre;overflow-x:auto;line-height:normal;font-family:Menlo,'DejaVu Sans Mono',consolas,'Courier New',monospace\"><span style=\"font-weight: bold\">[</span>\n",
       "    <span style=\"font-weight: bold\">(</span><span style=\"color: #008080; text-decoration-color: #008080; font-weight: bold\">35.689722</span>, <span style=\"color: #008080; text-decoration-color: #008080; font-weight: bold\">139.691667</span><span style=\"font-weight: bold\">)</span>,\n",
       "    <span style=\"font-weight: bold\">(</span><span style=\"color: #008080; text-decoration-color: #008080; font-weight: bold\">28.613889</span>, <span style=\"color: #008080; text-decoration-color: #008080; font-weight: bold\">77.208889</span><span style=\"font-weight: bold\">)</span>,\n",
       "    <span style=\"font-weight: bold\">(</span><span style=\"color: #008080; text-decoration-color: #008080; font-weight: bold\">19.433333</span>, <span style=\"color: #008080; text-decoration-color: #008080; font-weight: bold\">-99.133333</span><span style=\"font-weight: bold\">)</span>,\n",
       "    <span style=\"font-weight: bold\">(</span><span style=\"color: #008080; text-decoration-color: #008080; font-weight: bold\">40.808611</span>, <span style=\"color: #008080; text-decoration-color: #008080; font-weight: bold\">-74.020386</span><span style=\"font-weight: bold\">)</span>,\n",
       "    <span style=\"font-weight: bold\">(</span><span style=\"color: #008080; text-decoration-color: #008080; font-weight: bold\">-23.547778</span>, <span style=\"color: #008080; text-decoration-color: #008080; font-weight: bold\">-46.635833</span><span style=\"font-weight: bold\">)</span>\n",
       "<span style=\"font-weight: bold\">]</span>\n",
       "</pre>\n"
      ],
      "text/plain": [
       "\u001b[1m[\u001b[0m\n",
       "    \u001b[1m(\u001b[0m\u001b[1;36m35.689722\u001b[0m, \u001b[1;36m139.691667\u001b[0m\u001b[1m)\u001b[0m,\n",
       "    \u001b[1m(\u001b[0m\u001b[1;36m28.613889\u001b[0m, \u001b[1;36m77.208889\u001b[0m\u001b[1m)\u001b[0m,\n",
       "    \u001b[1m(\u001b[0m\u001b[1;36m19.433333\u001b[0m, \u001b[1;36m-99.133333\u001b[0m\u001b[1m)\u001b[0m,\n",
       "    \u001b[1m(\u001b[0m\u001b[1;36m40.808611\u001b[0m, \u001b[1;36m-74.020386\u001b[0m\u001b[1m)\u001b[0m,\n",
       "    \u001b[1m(\u001b[0m\u001b[1;36m-23.547778\u001b[0m, \u001b[1;36m-46.635833\u001b[0m\u001b[1m)\u001b[0m\n",
       "\u001b[1m]\u001b[0m\n"
      ]
     },
     "metadata": {},
     "output_type": "display_data"
    }
   ],
   "source": [
    "l = []\n",
    "for record in metro_areas:\n",
    "    match record:\n",
    "        case [_, _, _, (lat, lon) as coord]:\n",
    "            l.append(coord)\n",
    "print(l)"
   ]
  },
  {
   "cell_type": "code",
   "execution_count": 66,
   "metadata": {},
   "outputs": [
    {
     "data": {
      "text/html": [
       "<pre style=\"white-space:pre;overflow-x:auto;line-height:normal;font-family:Menlo,'DejaVu Sans Mono',consolas,'Courier New',monospace\"><span style=\"font-weight: bold\">[</span>\n",
       "    <span style=\"font-weight: bold\">(</span><span style=\"color: #008000; text-decoration-color: #008000\">'Tokyo'</span>, <span style=\"font-weight: bold\">(</span><span style=\"color: #008080; text-decoration-color: #008080; font-weight: bold\">35.689722</span>, <span style=\"color: #008080; text-decoration-color: #008080; font-weight: bold\">139.691667</span><span style=\"font-weight: bold\">))</span>,\n",
       "    <span style=\"font-weight: bold\">(</span><span style=\"color: #008000; text-decoration-color: #008000\">'Delhi NCR'</span>, <span style=\"font-weight: bold\">(</span><span style=\"color: #008080; text-decoration-color: #008080; font-weight: bold\">28.613889</span>, <span style=\"color: #008080; text-decoration-color: #008080; font-weight: bold\">77.208889</span><span style=\"font-weight: bold\">))</span>,\n",
       "    <span style=\"font-weight: bold\">(</span><span style=\"color: #008000; text-decoration-color: #008000\">'Mexico City'</span>, <span style=\"font-weight: bold\">(</span><span style=\"color: #008080; text-decoration-color: #008080; font-weight: bold\">19.433333</span>, <span style=\"color: #008080; text-decoration-color: #008080; font-weight: bold\">-99.133333</span><span style=\"font-weight: bold\">))</span>,\n",
       "    <span style=\"font-weight: bold\">(</span><span style=\"color: #008000; text-decoration-color: #008000\">'New York-Newark'</span>, <span style=\"font-weight: bold\">(</span><span style=\"color: #008080; text-decoration-color: #008080; font-weight: bold\">40.808611</span>, <span style=\"color: #008080; text-decoration-color: #008080; font-weight: bold\">-74.020386</span><span style=\"font-weight: bold\">))</span>,\n",
       "    <span style=\"font-weight: bold\">(</span><span style=\"color: #008000; text-decoration-color: #008000\">'São Paulo'</span>, <span style=\"font-weight: bold\">(</span><span style=\"color: #008080; text-decoration-color: #008080; font-weight: bold\">-23.547778</span>, <span style=\"color: #008080; text-decoration-color: #008080; font-weight: bold\">-46.635833</span><span style=\"font-weight: bold\">))</span>\n",
       "<span style=\"font-weight: bold\">]</span>\n",
       "</pre>\n"
      ],
      "text/plain": [
       "\u001b[1m[\u001b[0m\n",
       "    \u001b[1m(\u001b[0m\u001b[32m'Tokyo'\u001b[0m, \u001b[1m(\u001b[0m\u001b[1;36m35.689722\u001b[0m, \u001b[1;36m139.691667\u001b[0m\u001b[1m)\u001b[0m\u001b[1m)\u001b[0m,\n",
       "    \u001b[1m(\u001b[0m\u001b[32m'Delhi NCR'\u001b[0m, \u001b[1m(\u001b[0m\u001b[1;36m28.613889\u001b[0m, \u001b[1;36m77.208889\u001b[0m\u001b[1m)\u001b[0m\u001b[1m)\u001b[0m,\n",
       "    \u001b[1m(\u001b[0m\u001b[32m'Mexico City'\u001b[0m, \u001b[1m(\u001b[0m\u001b[1;36m19.433333\u001b[0m, \u001b[1;36m-99.133333\u001b[0m\u001b[1m)\u001b[0m\u001b[1m)\u001b[0m,\n",
       "    \u001b[1m(\u001b[0m\u001b[32m'New York-Newark'\u001b[0m, \u001b[1m(\u001b[0m\u001b[1;36m40.808611\u001b[0m, \u001b[1;36m-74.020386\u001b[0m\u001b[1m)\u001b[0m\u001b[1m)\u001b[0m,\n",
       "    \u001b[1m(\u001b[0m\u001b[32m'São Paulo'\u001b[0m, \u001b[1m(\u001b[0m\u001b[1;36m-23.547778\u001b[0m, \u001b[1;36m-46.635833\u001b[0m\u001b[1m)\u001b[0m\u001b[1m)\u001b[0m\n",
       "\u001b[1m]\u001b[0m\n"
      ]
     },
     "metadata": {},
     "output_type": "display_data"
    }
   ],
   "source": [
    "l = []\n",
    "for record in metro_areas:\n",
    "    match record:        \n",
    "        case [str(name), _, _, (float(lat), float(lon))]:\n",
    "            l.append((name, (lat, lon)))\n",
    "print(l)"
   ]
  },
  {
   "cell_type": "code",
   "execution_count": 64,
   "metadata": {},
   "outputs": [
    {
     "data": {
      "text/html": [
       "<pre style=\"white-space:pre;overflow-x:auto;line-height:normal;font-family:Menlo,'DejaVu Sans Mono',consolas,'Courier New',monospace\"><span style=\"font-weight: bold\">[</span><span style=\"color: #008000; text-decoration-color: #008000\">'JP'</span>, <span style=\"color: #008080; text-decoration-color: #008080; font-weight: bold\">36.933</span>, <span style=\"color: #008000; text-decoration-color: #008000\">'IN'</span>, <span style=\"color: #008080; text-decoration-color: #008080; font-weight: bold\">21.935</span>, <span style=\"color: #008000; text-decoration-color: #008000\">'MX'</span>, <span style=\"color: #008080; text-decoration-color: #008080; font-weight: bold\">20.142</span>, <span style=\"color: #008000; text-decoration-color: #008000\">'US'</span>, <span style=\"color: #008080; text-decoration-color: #008080; font-weight: bold\">20.104</span>, <span style=\"color: #008000; text-decoration-color: #008000\">'BR'</span>, <span style=\"color: #008080; text-decoration-color: #008080; font-weight: bold\">19.649</span><span style=\"font-weight: bold\">]</span>\n",
       "</pre>\n"
      ],
      "text/plain": [
       "\u001b[1m[\u001b[0m\u001b[32m'JP'\u001b[0m, \u001b[1;36m36.933\u001b[0m, \u001b[32m'IN'\u001b[0m, \u001b[1;36m21.935\u001b[0m, \u001b[32m'MX'\u001b[0m, \u001b[1;36m20.142\u001b[0m, \u001b[32m'US'\u001b[0m, \u001b[1;36m20.104\u001b[0m, \u001b[32m'BR'\u001b[0m, \u001b[1;36m19.649\u001b[0m\u001b[1m]\u001b[0m\n"
      ]
     },
     "metadata": {},
     "output_type": "display_data"
    }
   ],
   "source": [
    "l = []\n",
    "for record in metro_areas:\n",
    "    match record:\n",
    "        case [_,  *p, [*coord]]:\n",
    "            x, y = p\n",
    "            l.append(x)\n",
    "            l.append(y)\n",
    "print(l)"
   ]
  },
  {
   "cell_type": "code",
   "execution_count": 70,
   "metadata": {},
   "outputs": [
    {
     "data": {
      "text/html": [
       "<pre style=\"white-space:pre;overflow-x:auto;line-height:normal;font-family:Menlo,'DejaVu Sans Mono',consolas,'Courier New',monospace\"><span style=\"font-weight: bold\">[</span><span style=\"color: #008000; text-decoration-color: #008000\">'a'</span>, Ellipsis, <span style=\"color: #008000; text-decoration-color: #008000\">'z'</span><span style=\"font-weight: bold\">]</span>\n",
       "</pre>\n"
      ],
      "text/plain": [
       "\u001b[1m[\u001b[0m\u001b[32m'a'\u001b[0m, Ellipsis, \u001b[32m'z'\u001b[0m\u001b[1m]\u001b[0m\n"
      ]
     },
     "metadata": {},
     "output_type": "display_data"
    }
   ],
   "source": [
    "p = ['a' ,..., 'z']\n",
    "print(p)"
   ]
  }
 ],
 "metadata": {
  "kernelspec": {
   "display_name": "Python 3 (ipykernel)",
   "language": "python",
   "name": "python3"
  },
  "language_info": {
   "codemirror_mode": {
    "name": "ipython",
    "version": 3
   },
   "file_extension": ".py",
   "mimetype": "text/x-python",
   "name": "python",
   "nbconvert_exporter": "python",
   "pygments_lexer": "ipython3",
   "version": "3.9.12"
  },
  "vscode": {
   "interpreter": {
    "hash": "b9d74408cc6f8a5799f1f66a740fa40f652eda5339645fc8e04affe03cc09da0"
   }
  }
 },
 "nbformat": 4,
 "nbformat_minor": 2
}
