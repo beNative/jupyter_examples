{
 "cells": [
  {
   "cell_type": "markdown",
   "metadata": {},
   "source": [
    "# Comprehensions"
   ]
  },
  {
   "cell_type": "code",
   "execution_count": 19,
   "metadata": {},
   "outputs": [],
   "source": [
    "from rich import inspect, pretty\n",
    "from rich import print\n",
    "from rich.traceback import install\n",
    "\n",
    "install(show_locals=True)\n",
    "\n",
    "pretty.install()"
   ]
  },
  {
   "cell_type": "markdown",
   "metadata": {},
   "source": [
    "## List comprehensions (listcomps)"
   ]
  },
  {
   "cell_type": "code",
   "execution_count": 1,
   "metadata": {},
   "outputs": [
    {
     "data": {
      "text/plain": [
       "[36, 162, 163, 165, 8364, 164]"
      ]
     },
     "execution_count": 1,
     "metadata": {},
     "output_type": "execute_result"
    }
   ],
   "source": [
    "symbols = '$¢£¥€¤'\n",
    "codes = [ord(symbol) for symbol in symbols]\n",
    "codes"
   ]
  },
  {
   "cell_type": "code",
   "execution_count": 21,
   "metadata": {},
   "outputs": [
    {
     "data": {
      "text/html": [
       "<pre style=\"white-space:pre;overflow-x:auto;line-height:normal;font-family:Menlo,'DejaVu Sans Mono',consolas,'Courier New',monospace\"><span style=\"font-weight: bold\">[</span><span style=\"color: #008080; text-decoration-color: #008080; font-weight: bold\">65</span>, <span style=\"color: #008080; text-decoration-color: #008080; font-weight: bold\">66</span>, <span style=\"color: #008080; text-decoration-color: #008080; font-weight: bold\">67</span><span style=\"font-weight: bold\">]</span>\n",
       "</pre>\n"
      ],
      "text/plain": [
       "\u001b[1m[\u001b[0m\u001b[1;36m65\u001b[0m, \u001b[1;36m66\u001b[0m, \u001b[1;36m67\u001b[0m\u001b[1m]\u001b[0m\n"
      ]
     },
     "metadata": {},
     "output_type": "display_data"
    },
    {
     "data": {
      "text/html": [
       "<pre style=\"white-space:pre;overflow-x:auto;line-height:normal;font-family:Menlo,'DejaVu Sans Mono',consolas,'Courier New',monospace\"><span style=\"color: #008080; text-decoration-color: #008080; font-weight: bold\">67</span>\n",
       "</pre>\n"
      ],
      "text/plain": [
       "\u001b[1;36m67\u001b[0m\n"
      ]
     },
     "metadata": {},
     "output_type": "display_data"
    }
   ],
   "source": [
    "x = 'ABC'\n",
    "codes = [ord(x) for x in x]\n",
    "print(codes)\n",
    "\n",
    "codes = [last := ord(c) for c in x] # Walrus operator ':= '\n",
    "last                                # widened scope for 'last' variable"
   ]
  },
  {
   "cell_type": "code",
   "execution_count": 22,
   "metadata": {},
   "outputs": [
    {
     "data": {
      "text/html": [
       "<pre style=\"white-space:pre;overflow-x:auto;line-height:normal;font-family:Menlo,'DejaVu Sans Mono',consolas,'Courier New',monospace\">\n",
       "<span style=\"font-weight: bold\">[</span>\n",
       "    <span style=\"font-weight: bold\">(</span><span style=\"color: #008000; text-decoration-color: #008000\">'black'</span>, <span style=\"color: #008000; text-decoration-color: #008000\">'S'</span><span style=\"font-weight: bold\">)</span>,\n",
       "    <span style=\"font-weight: bold\">(</span><span style=\"color: #008000; text-decoration-color: #008000\">'black'</span>, <span style=\"color: #008000; text-decoration-color: #008000\">'M'</span><span style=\"font-weight: bold\">)</span>,\n",
       "    <span style=\"font-weight: bold\">(</span><span style=\"color: #008000; text-decoration-color: #008000\">'black'</span>, <span style=\"color: #008000; text-decoration-color: #008000\">'L'</span><span style=\"font-weight: bold\">)</span>,\n",
       "    <span style=\"font-weight: bold\">(</span><span style=\"color: #008000; text-decoration-color: #008000\">'white'</span>, <span style=\"color: #008000; text-decoration-color: #008000\">'S'</span><span style=\"font-weight: bold\">)</span>,\n",
       "    <span style=\"font-weight: bold\">(</span><span style=\"color: #008000; text-decoration-color: #008000\">'white'</span>, <span style=\"color: #008000; text-decoration-color: #008000\">'M'</span><span style=\"font-weight: bold\">)</span>,\n",
       "    <span style=\"font-weight: bold\">(</span><span style=\"color: #008000; text-decoration-color: #008000\">'white'</span>, <span style=\"color: #008000; text-decoration-color: #008000\">'L'</span><span style=\"font-weight: bold\">)</span>\n",
       "<span style=\"font-weight: bold\">]</span>\n",
       "</pre>\n"
      ],
      "text/plain": [
       "\n",
       "\u001b[1m[\u001b[0m\n",
       "    \u001b[1m(\u001b[0m\u001b[32m'black'\u001b[0m, \u001b[32m'S'\u001b[0m\u001b[1m)\u001b[0m,\n",
       "    \u001b[1m(\u001b[0m\u001b[32m'black'\u001b[0m, \u001b[32m'M'\u001b[0m\u001b[1m)\u001b[0m,\n",
       "    \u001b[1m(\u001b[0m\u001b[32m'black'\u001b[0m, \u001b[32m'L'\u001b[0m\u001b[1m)\u001b[0m,\n",
       "    \u001b[1m(\u001b[0m\u001b[32m'white'\u001b[0m, \u001b[32m'S'\u001b[0m\u001b[1m)\u001b[0m,\n",
       "    \u001b[1m(\u001b[0m\u001b[32m'white'\u001b[0m, \u001b[32m'M'\u001b[0m\u001b[1m)\u001b[0m,\n",
       "    \u001b[1m(\u001b[0m\u001b[32m'white'\u001b[0m, \u001b[32m'L'\u001b[0m\u001b[1m)\u001b[0m\n",
       "\u001b[1m]\u001b[0m\n"
      ]
     },
     "metadata": {},
     "output_type": "display_data"
    }
   ],
   "source": [
    "colors = ['black', 'white']\n",
    "sizes = ['S', 'M', 'L']\n",
    "tshirts = [(color, size) for color in colors \n",
    "                         for size in sizes]\n",
    "tshirts"
   ]
  },
  {
   "cell_type": "markdown",
   "metadata": {},
   "source": [
    "## Dict comprehensions (dictcomps)"
   ]
  },
  {
   "cell_type": "code",
   "execution_count": 23,
   "metadata": {},
   "outputs": [
    {
     "data": {
      "text/html": [
       "<pre style=\"white-space:pre;overflow-x:auto;line-height:normal;font-family:Menlo,'DejaVu Sans Mono',consolas,'Courier New',monospace\"><span style=\"font-weight: bold\">{</span>\n",
       "    <span style=\"color: #008000; text-decoration-color: #008000\">'Bangladesh'</span>: <span style=\"color: #008080; text-decoration-color: #008080; font-weight: bold\">880</span>,\n",
       "    <span style=\"color: #008000; text-decoration-color: #008000\">'Brazil'</span>: <span style=\"color: #008080; text-decoration-color: #008080; font-weight: bold\">55</span>,\n",
       "    <span style=\"color: #008000; text-decoration-color: #008000\">'China'</span>: <span style=\"color: #008080; text-decoration-color: #008080; font-weight: bold\">86</span>,\n",
       "    <span style=\"color: #008000; text-decoration-color: #008000\">'India'</span>: <span style=\"color: #008080; text-decoration-color: #008080; font-weight: bold\">91</span>,\n",
       "    <span style=\"color: #008000; text-decoration-color: #008000\">'Indonesia'</span>: <span style=\"color: #008080; text-decoration-color: #008080; font-weight: bold\">62</span>,\n",
       "    <span style=\"color: #008000; text-decoration-color: #008000\">'Japan'</span>: <span style=\"color: #008080; text-decoration-color: #008080; font-weight: bold\">81</span>,\n",
       "    <span style=\"color: #008000; text-decoration-color: #008000\">'Nigeria'</span>: <span style=\"color: #008080; text-decoration-color: #008080; font-weight: bold\">234</span>,\n",
       "    <span style=\"color: #008000; text-decoration-color: #008000\">'Pakistan'</span>: <span style=\"color: #008080; text-decoration-color: #008080; font-weight: bold\">92</span>,\n",
       "    <span style=\"color: #008000; text-decoration-color: #008000\">'Russia'</span>: <span style=\"color: #008080; text-decoration-color: #008080; font-weight: bold\">7</span>,\n",
       "    <span style=\"color: #008000; text-decoration-color: #008000\">'United States'</span>: <span style=\"color: #008080; text-decoration-color: #008080; font-weight: bold\">1</span>\n",
       "<span style=\"font-weight: bold\">}</span>\n",
       "</pre>\n"
      ],
      "text/plain": [
       "\u001b[1m{\u001b[0m\n",
       "    \u001b[32m'Bangladesh'\u001b[0m: \u001b[1;36m880\u001b[0m,\n",
       "    \u001b[32m'Brazil'\u001b[0m: \u001b[1;36m55\u001b[0m,\n",
       "    \u001b[32m'China'\u001b[0m: \u001b[1;36m86\u001b[0m,\n",
       "    \u001b[32m'India'\u001b[0m: \u001b[1;36m91\u001b[0m,\n",
       "    \u001b[32m'Indonesia'\u001b[0m: \u001b[1;36m62\u001b[0m,\n",
       "    \u001b[32m'Japan'\u001b[0m: \u001b[1;36m81\u001b[0m,\n",
       "    \u001b[32m'Nigeria'\u001b[0m: \u001b[1;36m234\u001b[0m,\n",
       "    \u001b[32m'Pakistan'\u001b[0m: \u001b[1;36m92\u001b[0m,\n",
       "    \u001b[32m'Russia'\u001b[0m: \u001b[1;36m7\u001b[0m,\n",
       "    \u001b[32m'United States'\u001b[0m: \u001b[1;36m1\u001b[0m\n",
       "\u001b[1m}\u001b[0m\n"
      ]
     },
     "metadata": {},
     "output_type": "display_data"
    }
   ],
   "source": [
    "dial_codes = [       \n",
    "    (880, 'Bangladesh'),\n",
    "    (55,  'Brazil'),\n",
    "    (86,  'China'),\n",
    "    (91,  'India'),\n",
    "    (62,  'Indonesia'),\n",
    "    (81,  'Japan'),\n",
    "    (234, 'Nigeria'),\n",
    "    (92,  'Pakistan'),\n",
    "    (7,   'Russia'),\n",
    "    (1,   'United States')\n",
    "]\n",
    "country_dial = {country: code \n",
    "                    for code, country in dial_codes}\n",
    "print(country_dial)"
   ]
  }
 ],
 "metadata": {
  "kernelspec": {
   "display_name": "Python 3.10.6 32-bit",
   "language": "python",
   "name": "python3"
  },
  "language_info": {
   "codemirror_mode": {
    "name": "ipython",
    "version": 3
   },
   "file_extension": ".py",
   "mimetype": "text/x-python",
   "name": "python",
   "nbconvert_exporter": "python",
   "pygments_lexer": "ipython3",
   "version": "3.10.6"
  },
  "orig_nbformat": 4,
  "vscode": {
   "interpreter": {
    "hash": "b9d74408cc6f8a5799f1f66a740fa40f652eda5339645fc8e04affe03cc09da0"
   }
  }
 },
 "nbformat": 4,
 "nbformat_minor": 2
}
